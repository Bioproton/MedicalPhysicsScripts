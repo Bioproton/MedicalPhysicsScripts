{
 "cells": [
  {
   "cell_type": "code",
   "execution_count": 1,
   "id": "34f503ca",
   "metadata": {},
   "outputs": [],
   "source": [
    "import pandas as pd\n",
    "import numpy as np\n",
    "import warnings\n",
    "\n",
    "warnings.simplefilter(action='ignore', category=FutureWarning)"
   ]
  },
  {
   "cell_type": "code",
   "execution_count": 2,
   "id": "6b06b817",
   "metadata": {},
   "outputs": [],
   "source": [
    "#e= energy in MeV, sim_d is the simulation SV size (0.5, 2 or 20 µm?), site_d is the site diameter in units um\n",
    "def site_energy(e,sim_d, site_d,frac): #frac is fraction of beam radius included in sim\n",
    "    #original location\n",
    "    #df = pd.read_csv(f'hits/{sim_d}um/Proton_{e}MeVu_{sim_d}um_hits.csv', usecols=['ID event','Energy','X','Y','Z','Particle generated'])\n",
    "    #test location kristian. compressed hits file is in ./hits/2um/Proton_10MeVu_2um_hits.csv\n",
    "    #df = pd.read_csv(f'hits/radiustest/Proton_{e}MeVu_{sim_d}um_hits_k_1_frac{frac}.csv', usecols=['ID event','Energy','X','Y','Z','Particle generated'])\n",
    "    df = pd.read_csv(f'hits/worldsizeTest/Proton_100MeVu_2um_hits_k_50nms_1e8_129um_1.csv', usecols=['ID event','Energy','X','Y','Z','Particle generated'])\n",
    "    for d in site_d:\n",
    "        r = d/2\n",
    "        nm=int(d*1000)\n",
    "        #kva brukes edge til?\n",
    "        edge=sim_d/2\n",
    "        \n",
    "        x = np.arange((-edge+r), edge, d)\n",
    "        y = np.arange((-edge+r), edge, d)\n",
    "        z = np.arange((-edge+r), edge, d)\n",
    "        #z = [7.5]\n",
    "        \n",
    "        #MESHGRID FOR SITES\n",
    "\n",
    "        xx, yy, zz =np.meshgrid(x, y, z)\n",
    "        xx = xx.flatten()\n",
    "        yy = yy.flatten()\n",
    "        zz = zz.flatten()\n",
    "        test = pd.DataFrame({'X':xx,\n",
    "                     'Y':yy,\n",
    "                     'Z':zz}\n",
    "                     )\n",
    "        \n",
    "        #LOOPING THROUGH FILES\n",
    "        #saving energy given in a site from events\n",
    "        \n",
    "        sjekk = pd.DataFrame()\n",
    "\n",
    "        energy1 = pd.Series()\n",
    "        n_detectors = 0 \n",
    "        for row in test.iterrows():\n",
    "            x = df.loc[np.sqrt((df['X']-row[1]['X'])**2 + (df['Y']-row[1]['Y'])**2 + (df['Z']-row[1]['Z'])**2 ) < r]\n",
    "            lineal = x.groupby('ID event')['Energy'].sum()\n",
    "            #print(lineal.head(15))\n",
    "            energy1 = energy1._append(lineal) #lagt til _\n",
    "            sjekk = sjekk._append(x) #lagt til _\n",
    "            n_detectors=n_detectors+1\n",
    "            if row[0] % 1000 ==0:\n",
    "                print('row[0] print: ',row[0])\n",
    "        sjekk['Partile generated'] = sjekk['Particle generated'].astype(str)\n",
    "        print('n_detectors ',n_detectors)\n",
    "        print(len(energy1))\n",
    "        \n",
    "        energy1.to_csv(f'energy/{sim_d}um/energy_{e}MeV_{nm}nm_k_frac{frac}_2025.csv')\n",
    "\n",
    "        \n"
   ]
  },
  {
   "cell_type": "code",
   "execution_count": 3,
   "id": "d884e789",
   "metadata": {},
   "outputs": [
    {
     "name": "stdout",
     "output_type": "stream",
     "text": [
      "row[0] print:  0\n",
      "n_detectors  8\n",
      "209180\n",
      "row[0] print:  0\n",
      "n_detectors  1\n",
      "106462\n"
     ]
    }
   ],
   "source": [
    "#run the function with energy [MeV, simulation diameter [µm] and site diameter [µm] as input parameters\n",
    "#set for test case (but why is last param in [] can we add multiple site str?\n",
    "site_energy(100, 2, [1,2], 129) #e, sim_d, site_d. site d 1= 1µm site"
   ]
  },
  {
   "cell_type": "code",
   "execution_count": null,
   "id": "ddfec3ec",
   "metadata": {},
   "outputs": [],
   "source": []
  },
  {
   "cell_type": "code",
   "execution_count": null,
   "id": "20535363",
   "metadata": {},
   "outputs": [],
   "source": []
  }
 ],
 "metadata": {
  "kernelspec": {
   "display_name": "Python 3 (ipykernel)",
   "language": "python",
   "name": "python3"
  },
  "language_info": {
   "codemirror_mode": {
    "name": "ipython",
    "version": 3
   },
   "file_extension": ".py",
   "mimetype": "text/x-python",
   "name": "python",
   "nbconvert_exporter": "python",
   "pygments_lexer": "ipython3",
   "version": "3.11.5"
  }
 },
 "nbformat": 4,
 "nbformat_minor": 5
}
